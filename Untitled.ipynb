{
 "cells": [
  {
   "cell_type": "code",
   "execution_count": 1,
   "id": "027377c7",
   "metadata": {},
   "outputs": [],
   "source": [
    "import os\n",
    "from random import randint, uniform\n",
    "import re\n",
    "import numpy as np\n",
    "import wave\n",
    "import contextlib\n",
    "import tools.processor as processor\n",
    "from tools.processor import split_file,split_file_into_folders\n",
    "\n",
    "import sys\n",
    "sys.path.append(\"../tools/\")\n",
    "sys.path.append(\"../Berom_Speech_Dataset/\")"
   ]
  },
  {
   "cell_type": "code",
   "execution_count": 2,
   "id": "15d8fd6e-85f5-457b-90d1-86121bc48616",
   "metadata": {},
   "outputs": [],
   "source": [
    "MAX_SENTENCE_LEN = 30\n",
    "SOURCE_PATH = '/Users/mandeebot/Desktop/proj_data/Berom_ASR/Berom_Speech_Dataset/trans/transcribe.txt'\n",
    "DEST_TEMP_PATH = 'bom_split.txt'\n",
    "DEST_TEMP_CLEAN_PATH = 'bom_clean_split.txt'\n",
    "NUM_FOLDER_SPLIT = 50\n",
    "FOLDER_PATH=\"split_text\"\n",
    "PARTIAL_NAME= \"bom_split\""
   ]
  },
  {
   "cell_type": "code",
   "execution_count": 3,
   "id": "31cbd2d3",
   "metadata": {},
   "outputs": [
    {
     "name": "stdout",
     "output_type": "stream",
     "text": [
      "done\n"
     ]
    }
   ],
   "source": [
    "status = processor.split_file(SOURCE_PATH, DEST_TEMP_PATH, MAX_SENTENCE_LEN)\n",
    "print(status)\n",
    "# clean_file_status = split_file(SOURCE_PATH, DEST_TEMP_CLEAN_PATH, MAX_SENTENCE_LEN, end_of_file=\"\\n\")\n",
    "if status == 'done':\n",
    "    processor.split_file_into_folders(FOLDER_PATH, DEST_TEMP_PATH, PARTIAL_NAME, NUM_FOLDER_SPLIT)"
   ]
  },
  {
   "cell_type": "code",
   "execution_count": 4,
   "id": "72ecdcfd",
   "metadata": {},
   "outputs": [],
   "source": [
    "DIR_OF_REC = \"/Users/mandeebot/Desktop/proj_data/Berom_ASR/Berom_Speech_Dataset/wav\"\n",
    "FILE_FORMAT = \".wav\""
   ]
  },
  {
   "cell_type": "code",
   "execution_count": 5,
   "id": "fe770a83",
   "metadata": {},
   "outputs": [
    {
     "name": "stdout",
     "output_type": "stream",
     "text": [
      "total len of recording is  0 s ,  0.0 h\n"
     ]
    }
   ],
   "source": [
    "from tools.processor import calculate_recording_len\n",
    "\n",
    "total_len, good_files, corrupted_files = calculate_recording_len(DIR_OF_REC, FILE_FORMAT)\n",
    "print(\"total len of recording is \", round(total_len, 2), \"s\",\", \",total_len/(60*60),\"h\")"
   ]
  },
  {
   "cell_type": "code",
   "execution_count": 6,
   "id": "e07332d4",
   "metadata": {},
   "outputs": [
    {
     "name": "stdout",
     "output_type": "stream",
     "text": [
      "212\n",
      "0\n",
      "0\n"
     ]
    }
   ],
   "source": [
    "print(good_files)\n",
    "print(corrupted_files)\n",
    "print(total_len)"
   ]
  },
  {
   "cell_type": "code",
   "execution_count": 7,
   "id": "eea17aa5",
   "metadata": {},
   "outputs": [],
   "source": [
    "#!mkdir data\n",
    "#!mkdir data/records"
   ]
  },
  {
   "cell_type": "code",
   "execution_count": 8,
   "id": "fa805fed",
   "metadata": {},
   "outputs": [],
   "source": [
    "from tools.processor import extract_non_corrupted_files\n",
    "\n",
    "wav_files, all_linkers = extract_non_corrupted_files(DIR_OF_REC)"
   ]
  },
  {
   "cell_type": "code",
   "execution_count": 9,
   "id": "d606d698",
   "metadata": {},
   "outputs": [
    {
     "data": {
      "text/plain": [
       "[]"
      ]
     },
     "execution_count": 9,
     "metadata": {},
     "output_type": "execute_result"
    }
   ],
   "source": [
    "wav_files"
   ]
  },
  {
   "cell_type": "code",
   "execution_count": 10,
   "id": "8645b6ec",
   "metadata": {},
   "outputs": [
    {
     "data": {
      "text/plain": [
       "dict_keys([])"
      ]
     },
     "execution_count": 10,
     "metadata": {},
     "output_type": "execute_result"
    }
   ],
   "source": [
    "all_linkers.keys()"
   ]
  },
  {
   "cell_type": "code",
   "execution_count": 11,
   "id": "3e245409",
   "metadata": {},
   "outputs": [
    {
     "name": "stdout",
     "output_type": "stream",
     "text": [
      "cp: illegal option -- t\n",
      "usage: cp [-R [-H | -L | -P]] [-fi | -n] [-apvXc] source_file target_file\n",
      "       cp [-R [-H | -L | -P]] [-fi | -n] [-apvXc] source_file ... target_directory\n"
     ]
    }
   ],
   "source": [
    "# copy wav files\n",
    "to_copy = \" \".join(wav_files)\n",
    "!cp -t data/records/ {to_copy}"
   ]
  },
  {
   "cell_type": "code",
   "execution_count": 12,
   "id": "fd85945b",
   "metadata": {},
   "outputs": [],
   "source": [
    "new_linkers = dict()\n",
    "for section, linker in all_linkers.items():\n",
    "    for i,link in enumerate(linker):\n",
    "        text_file_name = link.split(\" \")[0].split(\"/\")[-1]\n",
    "        line = link.split(\";\")[0].split(\"(\")[1].split(\")\")[0].strip()\n",
    "        wav = link.split(\";\")[1].strip().split(\"/\")[-1]\n",
    "\n",
    "        linker[i] = wav+\":\"+line\n",
    "        new_linkers[text_file_name] = linker"
   ]
  },
  {
   "cell_type": "code",
   "execution_count": 20,
   "id": "8b86c08b",
   "metadata": {},
   "outputs": [],
   "source": [
    "\n",
    "#!mkdir ./data/records/train\n",
    "#!mkdir ./data/records/test\n",
    "#!mkdir ./data/records/val\n",
    "#!mkdir ./data/records/extra"
   ]
  },
  {
   "cell_type": "code",
   "execution_count": 14,
   "id": "67e92c18",
   "metadata": {},
   "outputs": [],
   "source": [
    "from tools.processor import split_train_val_test\n",
    "\n",
    "# reduce to 2hrs data by splitting into 3 with 3hrs of data\n",
    "# split 1hr into train and val\n",
    "to_copy_train, to_copy_valid = split_train_val_test(wav_files, \n",
    "                                                    num_splits=1, # reduce to 2hrs data since I have 3hrs of data\n",
    "                                                    val_split=0.2)"
   ]
  },
  {
   "cell_type": "code",
   "execution_count": 21,
   "id": "e4f816e9",
   "metadata": {},
   "outputs": [],
   "source": [
    "#!mv -t data/records/train/ {to_copy_train}\n",
    "#!mv -t data/records/val/ {to_copy_valid}\n",
    "#!mv -t data/records/test/ {to_copy_test}\n",
    "#!mv -t data/records/extra/ {to_copy_extra}"
   ]
  },
  {
   "cell_type": "code",
   "execution_count": 16,
   "id": "3cff618b",
   "metadata": {},
   "outputs": [],
   "source": [
    "from tools.processor import create_char_set\n",
    "\n",
    "chars_list, text_data  = create_char_set(new_linkers, path=\"./split_text/\", exclude=\"[\\n\\.,''-''̀''́'''!-]\")"
   ]
  },
  {
   "cell_type": "code",
   "execution_count": 17,
   "id": "54095958",
   "metadata": {},
   "outputs": [
    {
     "name": "stdout",
     "output_type": "stream",
     "text": [
      "{' ': 1, 'ε': 0}\n"
     ]
    }
   ],
   "source": [
    "print(chars_list)"
   ]
  },
  {
   "cell_type": "code",
   "execution_count": 18,
   "id": "f8fc2039",
   "metadata": {},
   "outputs": [
    {
     "name": "stdout",
     "output_type": "stream",
     "text": [
      "files created for training\n"
     ]
    }
   ],
   "source": [
    "from tools.processor import create_data_format\n",
    "\n",
    "create_data_format(text_data, chars_list)"
   ]
  },
  {
   "cell_type": "code",
   "execution_count": 19,
   "id": "5d951596",
   "metadata": {},
   "outputs": [
    {
     "data": {
      "text/plain": [
       "2"
      ]
     },
     "execution_count": 19,
     "metadata": {},
     "output_type": "execute_result"
    }
   ],
   "source": [
    "len(chars_list)"
   ]
  }
 ],
 "metadata": {
  "kernelspec": {
   "display_name": "Python 3 (ipykernel)",
   "language": "python",
   "name": "python3"
  },
  "language_info": {
   "codemirror_mode": {
    "name": "ipython",
    "version": 3
   },
   "file_extension": ".py",
   "mimetype": "text/x-python",
   "name": "python",
   "nbconvert_exporter": "python",
   "pygments_lexer": "ipython3",
   "version": "3.9.16"
  }
 },
 "nbformat": 4,
 "nbformat_minor": 5
}
